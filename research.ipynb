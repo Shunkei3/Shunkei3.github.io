{
  "cells": [
    {
      "cell_type": "raw",
      "metadata": {},
      "source": [
        "---\n",
        "title: \"Research\"\n",
        "toc: false\n",
        "bibliography: ./assets/bib/Exported Items.bib\n",
        "---"
      ],
      "id": "157b7080"
    },
    {
      "cell_type": "markdown",
      "metadata": {},
      "source": [
        "```{css}\n",
        "cite {\n",
        "  color: #515151;\n",
        "  font-style: normal;\n",
        "}\n",
        "\n",
        "p {\n",
        "  line-height: 1.25;\n",
        "  padding-left: 30px;\n",
        "  text-indent: -30px;\n",
        "}\n",
        "\n",
        ".relax {\n",
        "  line-height: 1.5;\n",
        "  padding-left: 0px;\n",
        "  text-indent: 0px;\n",
        "}\n",
        "\n",
        "```"
      ],
      "id": "6c4b7fce"
    }
  ],
  "metadata": {
    "kernelspec": {
      "display_name": "Python 3",
      "language": "python",
      "name": "python3"
    }
  },
  "nbformat": 4,
  "nbformat_minor": 5
}