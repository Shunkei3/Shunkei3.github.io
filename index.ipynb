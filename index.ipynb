{
  "cells": [
    {
      "cell_type": "raw",
      "metadata": {},
      "source": [
        "---\n",
        "title: \"Shunkei Kakimoto\"\n",
        "image: assets/image/IMG_0733.png\n",
        "page-layout: full\n",
        "toc: false\n",
        "about: \n",
        "    template: trestles\n",
        "    image-shape: round\n",
        "    image-width: 30em\n",
        "    links:\n",
        "        - text: \"{{< fa envelope size=2xl >}}\"\n",
        "          href: mailto:kakim002@umn.edu\n",
        "        - text: \"{{< fa brands github size=2xl >}}\"\n",
        "          href: https://github.com/Shunkei3\n",
        "---"
      ],
      "id": "c0a1bc3f"
    },
    {
      "cell_type": "markdown",
      "metadata": {},
      "source": [
        "```{css}\n",
        ".about-link {\n",
        "  color: #cc0033 !important;\n",
        "  padding: 10px !important;\n",
        "  border: 0 !important;\n",
        "  border-radius: 5px !important;\n",
        "  background-color: transparent !important;\n",
        "}\n",
        "```\n",
        "\n",
        "\n",
        "# Hello\n"
      ],
      "id": "e1008000"
    }
  ],
  "metadata": {
    "kernelspec": {
      "display_name": "Python 3",
      "language": "python",
      "name": "python3"
    }
  },
  "nbformat": 4,
  "nbformat_minor": 5
}